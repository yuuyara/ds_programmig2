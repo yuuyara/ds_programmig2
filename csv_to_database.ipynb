{
 "cells": [
  {
   "cell_type": "code",
   "execution_count": 6,
   "metadata": {},
   "outputs": [
    {
     "name": "stdout",
     "output_type": "stream",
     "text": [
      "/Users/araiyuya/Desktop/onegai\n"
     ]
    }
   ],
   "source": [
    "import sqlite3\n",
    "!pwd"
   ]
  },
  {
   "cell_type": "code",
   "execution_count": 8,
   "metadata": {},
   "outputs": [],
   "source": [
    "path = '/Users/araiyuya/Desktop/onegai/'\n",
    "\n",
    "# ローカル（自分のMac）\n",
    "# path = '../db/'\n",
    "\n",
    "# DBファイル名\n",
    "db_name = 'aircon.sqlite'\n",
    "\n",
    "# DBに接続する（指定したDBファイル存在しない場合は，新規に作成される）\n",
    "con = sqlite3.connect(path + db_name)\n",
    "\n",
    "# DBへの接続を閉じる\n",
    "con.close()"
   ]
  },
  {
   "cell_type": "code",
   "execution_count": 9,
   "metadata": {},
   "outputs": [],
   "source": [
    "# 1．DBに接続する\n",
    "con = sqlite3.connect(path + db_name)\n",
    "# print(type(con))\n",
    "\n",
    "# 2．SQLを実行するためのオブジェクトを取得\n",
    "cur = con.cursor()\n",
    "\n",
    "# 3．実行したいSQLを用意する\n",
    "# テーブルを作成するSQL\n",
    "# CREATE TABLE テーブル名（カラム名 型，...）;\n",
    "sql_create_table = 'CREATE TABLE aircon (thyme text, ON_OFF text);'\n",
    "\n",
    "# 4．SQLを実行する\n",
    "cur.execute(sql_create_table)\n",
    "\n",
    "# 5．必要があればコミットする（データ変更等があった場合）\n",
    "# 今回は必要なし\n",
    "\n",
    "# 6．DBへの接続を閉じる\n",
    "con.close()"
   ]
  },
  {
   "cell_type": "code",
   "execution_count": 10,
   "metadata": {},
   "outputs": [],
   "source": [
    "import csv\n",
    "import sqlite3\n",
    "# SQLiteデータベースに接続\n",
    "conn = sqlite3.connect('aircon.sqlite')\n",
    "cursor = conn.cursor()\n",
    "# CSVファイルの読み込みとデータベースへの挿入\n",
    "with open('//Users/araiyuya/Desktop/onegai/aircon.csv', 'r') as csv_file:\n",
    "    csv_reader = csv.reader(csv_file)\n",
    "    # ヘッダー行がある場合、読み飛ばす\n",
    "    next(csv_reader)\n",
    "    for row in csv_reader:\n",
    "        cursor.execute('''\n",
    "            INSERT INTO aircon (thyme, ON_OFF)\n",
    "            VALUES (?, ?)\n",
    "        ''', (row[0], row[1]))\n",
    "# コミットとクローズ\n",
    "conn.commit()\n",
    "conn.close()"
   ]
  }
 ],
 "metadata": {
  "kernelspec": {
   "display_name": "Python 3",
   "language": "python",
   "name": "python3"
  },
  "language_info": {
   "codemirror_mode": {
    "name": "ipython",
    "version": 3
   },
   "file_extension": ".py",
   "mimetype": "text/x-python",
   "name": "python",
   "nbconvert_exporter": "python",
   "pygments_lexer": "ipython3",
   "version": "3.9.6"
  }
 },
 "nbformat": 4,
 "nbformat_minor": 2
}
